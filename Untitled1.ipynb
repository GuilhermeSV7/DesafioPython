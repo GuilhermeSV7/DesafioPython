{
  "nbformat": 4,
  "nbformat_minor": 0,
  "metadata": {
    "colab": {
      "provenance": [],
      "authorship_tag": "ABX9TyNvfSSvOqZ5tya1iVniMgim",
      "include_colab_link": true
    },
    "kernelspec": {
      "name": "python3",
      "display_name": "Python 3"
    },
    "language_info": {
      "name": "python"
    }
  },
  "cells": [
    {
      "cell_type": "markdown",
      "metadata": {
        "id": "view-in-github",
        "colab_type": "text"
      },
      "source": [
        "<a href=\"https://colab.research.google.com/github/GuilhermeSV7/DesafioPython/blob/main/Untitled1.ipynb\" target=\"_parent\"><img src=\"https://colab.research.google.com/assets/colab-badge.svg\" alt=\"Open In Colab\"/></a>"
      ]
    },
    {
      "cell_type": "code",
      "execution_count": null,
      "metadata": {
        "colab": {
          "base_uri": "https://localhost:8080/"
        },
        "id": "b1l4P6PgXCWr",
        "outputId": "c2438bd4-a9d1-4a1d-e087-5141a3adad29"
      },
      "outputs": [
        {
          "output_type": "stream",
          "name": "stdout",
          "text": [
            "    dsc_localidade  quantidade\n",
            "0        ASA NORTE           2\n",
            "1   RIACHO FUNDO I           2\n",
            "2  RIACHO FUNDO II           1\n",
            "                  nom_seglogr  quantidade\n",
            "0             CLN 112 BLOCO A           1\n",
            "1               CLN 3 BLOCO A           1\n",
            "2             CLN 311 BLOCO B           1\n",
            "3  QUADRA AC 2 LOTES 7 8 9 10           1\n",
            "4     QUADRA QN 7E CONJUNTO 1           1\n",
            "          cod_setor  quantidade\n",
            "0  530010805060037P           1\n",
            "1  530010805060040P           1\n",
            "2  530010805130068P           1\n",
            "3  530010805130165P           1\n",
            "4  530010805410018P           1\n"
          ]
        }
      ],
      "source": [
        "import pandas as pd\n",
        "import numpy as np\n",
        "\n",
        "dados = pd.read_csv('/content/DF.csv', sep=';', encoding='utf-8', low_memory=False)\n",
        "dados.columns = dados.columns.str.strip().str.lower()\n",
        "\n",
        "filtro_bairros = (\n",
        "    (dados['dsc_localidade'].str.contains('Asa Norte', case=False, na=False)) |\n",
        "    (dados['dsc_localidade'].str.contains('Riacho Fundo I', case=False, na=False))\n",
        ")\n",
        "\n",
        "filtro_nicho = dados['dsc_estabelecimento'].str.contains('Pet Shop', case=False, na=False)\n",
        "\n",
        "dados_filtrados = dados[filtro_bairros & filtro_nicho]\n",
        "\n",
        "dados_filtrados = dados_filtrados.drop_duplicates()\n",
        "dados_filtrados = dados_filtrados.dropna(subset=['nom_seglogr', 'dsc_estabelecimento'])\n",
        "\n",
        "agrupamento_bairro = dados_filtrados.groupby('dsc_localidade').size().reset_index(name='quantidade')\n",
        "print(agrupamento_bairro)\n",
        "\n",
        "agrupamento_logradouro = dados_filtrados.groupby('nom_seglogr').size().reset_index(name='quantidade').sort_values(by='quantidade', ascending=False)\n",
        "print(agrupamento_logradouro.head(10))\n",
        "\n",
        "agrupamento_setor = dados_filtrados.groupby('cod_setor').size().reset_index(name='quantidade').sort_values(by='quantidade', ascending=False)\n",
        "print(agrupamento_setor)\n"
      ]
    }
  ]
}